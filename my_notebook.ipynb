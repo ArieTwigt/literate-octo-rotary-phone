{
 "cells": [
  {
   "cell_type": "code",
   "execution_count": 5,
   "id": "97f4f11a",
   "metadata": {},
   "outputs": [
    {
     "name": "stdout",
     "output_type": "stream",
     "text": [
      "Hello world!\n"
     ]
    }
   ],
   "source": [
    "print(\"Hello world!\")"
   ]
  },
  {
   "cell_type": "code",
   "execution_count": 6,
   "id": "a4c4986d",
   "metadata": {},
   "outputs": [],
   "source": [
    "a = 5\n",
    "b = 5"
   ]
  },
  {
   "cell_type": "code",
   "execution_count": 8,
   "id": "0c171719",
   "metadata": {},
   "outputs": [
    {
     "data": {
      "text/plain": [
       "10"
      ]
     },
     "execution_count": 8,
     "metadata": {},
     "output_type": "execute_result"
    }
   ],
   "source": [
    "# berekenen\n",
    "a + b"
   ]
  },
  {
   "cell_type": "markdown",
   "id": "0e261585",
   "metadata": {},
   "source": [
    "# H1\n",
    "\n",
    "Hierin vindt de volgende berekening plaats.\n",
    "Dit is **dikgedrukte** tekst"
   ]
  },
  {
   "cell_type": "code",
   "execution_count": null,
   "id": "d6ccae0b",
   "metadata": {},
   "outputs": [],
   "source": []
  }
 ],
 "metadata": {
  "kernelspec": {
   "display_name": "Python 3 (ipykernel)",
   "language": "python",
   "name": "python3"
  },
  "language_info": {
   "codemirror_mode": {
    "name": "ipython",
    "version": 3
   },
   "file_extension": ".py",
   "mimetype": "text/x-python",
   "name": "python",
   "nbconvert_exporter": "python",
   "pygments_lexer": "ipython3",
   "version": "3.10.4"
  }
 },
 "nbformat": 4,
 "nbformat_minor": 5
}
